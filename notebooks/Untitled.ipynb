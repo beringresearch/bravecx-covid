{
 "cells": [
  {
   "cell_type": "code",
   "execution_count": 11,
   "id": "seven-singer",
   "metadata": {},
   "outputs": [],
   "source": [
    "import sys\n",
    "import json\n",
    "import os\n",
    "import pydicom\n",
    "import datetime\n",
    "\n",
    "import pandas as pd\n",
    "import numpy as np\n",
    "\n",
    "import tensorflow as tf\n",
    "import matplotlib.pyplot as plt\n",
    "\n",
    "from tensorflow.keras.applications.inception_v3 import preprocess_input"
   ]
  },
  {
   "cell_type": "code",
   "execution_count": 2,
   "id": "velvet-deficit",
   "metadata": {},
   "outputs": [],
   "source": [
    "@tf.function\n",
    "def crop_image_to_mask(img, mask,\n",
    "    crop_shape=(299, 299),\n",
    "    crop_masked_img=True, soft_mask=True):\n",
    "    \"\"\"Reads an image and a mask from disk using the provided read functions\n",
    "    and returns a randomly selected image crop of the requested size that is centered around a\n",
    "    segmented pixel.\n",
    "\n",
    "    The mask is assumed to be scaled within the usual range for the provided dtype (e.g.\n",
    "    0-255 for tf.uint8).\n",
    "\n",
    "    Args:\n",
    "        crop_shape: tuple(2). Requested crop size.\n",
    "        crop_masked_img: boolean. If true, crops masked image rather than original.\n",
    "        soft_mask: boolean. If true, the soft image mask is applied to the image,\n",
    "            rather than a hard one.\n",
    "    \"\"\"\n",
    "    mask = tf.convert_to_tensor(mask)\n",
    "    mask /= 255\n",
    "    mask_hard = tf.cast(tf.math.round(mask), dtype=img.dtype)\n",
    "\n",
    "    if len(tf.shape(mask_hard)) < 3:\n",
    "        mask_hard = tf.expand_dims(mask_hard, axis=-1)\n",
    "\n",
    "    if crop_masked_img:\n",
    "        if soft_mask:\n",
    "            img_to_crop = tf.cast(tf.cast(img, tf.float32) * mask, img.dtype)\n",
    "        else:\n",
    "            img_to_crop = img * mask_hard\n",
    "    else:\n",
    "        img_to_crop = img\n",
    "\n",
    "    crop_center_coords = select_random_segmented_pixel(mask_hard)\n",
    "    cropped_img = centered_img_crop(img_to_crop, crop_center_coords, crop_shape)\n",
    "    return cropped_img\n",
    "\n",
    "@tf.function\n",
    "def centered_img_crop(img, center_pixel_coords, crop_shape):\n",
    "    \"\"\"Extracts a crop from an image centered around the coordinates provided\n",
    "    in center_pixel_coords.\n",
    "\n",
    "    If the requested crop would extend beyond the edge of the image it will be constrained\n",
    "    to fit inside.\n",
    "\n",
    "    Args:\n",
    "        img - image Tensor\n",
    "        center_pixel_coords: tuple/list (height, width) with coordinates to center of crop\n",
    "        crop_shape: tuple/list of (height, width) with dimensions of the crop to take\n",
    "\n",
    "    Returns:\n",
    "        img_crop: Tensor\n",
    "    \"\"\"\n",
    "\n",
    "    center_pixel_coords = tf.cast(center_pixel_coords, tf.int32)\n",
    "    crop_shape = tf.cast(crop_shape, tf.int32)\n",
    "\n",
    "    min_val = tf.constant(0, dtype=tf.int32)\n",
    "    two = tf.constant(2, dtype=tf.int32)\n",
    "\n",
    "    offset_height = tf.math.maximum(center_pixel_coords[0] - crop_shape[0] // two, min_val)\n",
    "    offset_height = tf.math.minimum(offset_height, tf.shape(img)[0] - crop_shape[0])\n",
    "    offset_width = tf.math.maximum(center_pixel_coords[1] - crop_shape[1] // two, min_val)\n",
    "    offset_width = tf.math.minimum(offset_width, tf.shape(img)[1] - crop_shape[1])\n",
    "\n",
    "    img_crop = tf.image.crop_to_bounding_box(\n",
    "        img, offset_height=offset_height, offset_width=offset_width,\n",
    "        target_height=crop_shape[0], target_width=crop_shape[1])\n",
    "\n",
    "    return img_crop\n",
    "\n",
    "@tf.function\n",
    "def select_random_segmented_pixel(mask):\n",
    "    \"\"\"Takes a binary mask and outputs the coordinates of a random positive point.\n",
    "\n",
    "    Args:\n",
    "        mask - 2D Tensor or 3D where one dimension is size 1.\n",
    "        Assumes binary values [0, 1] where 1 denotes the candidates for sampling.\n",
    "    \"\"\"\n",
    "    mask = tf.squeeze(mask)\n",
    "\n",
    "    positive_segmentation_tensor = tf.ones(tf.shape(mask), dtype=mask.dtype)\n",
    "    segmented_pixel_coords = tf.where(tf.equal(mask, positive_segmentation_tensor))\n",
    "\n",
    "    random_coord_idx = tf.random.uniform([], maxval=tf.shape(segmented_pixel_coords)[0], dtype=tf.int32)\n",
    "    random_segmented_coord = segmented_pixel_coords[random_coord_idx]\n",
    "    return random_segmented_coord"
   ]
  },
  {
   "cell_type": "code",
   "execution_count": 3,
   "id": "killing-rescue",
   "metadata": {},
   "outputs": [],
   "source": [
    "import tensorflow as tf\n",
    "import tensorflow_io as tfio\n",
    "import numpy as np\n",
    "\n",
    "def read_dicom_uint8(path, target_size=(299, 299), preprocess_fn=None):\n",
    "    image = tf.io.read_file(path)\n",
    "    image = tfio.image.decode_dicom_image(image, color_dim=True,\n",
    "                                          dtype=tf.uint8, scale='auto',\n",
    "                                          on_error='lossy')\n",
    "    image = tf.image.grayscale_to_rgb(image)\n",
    "    image = tf.cast(image, tf.uint8)\n",
    "    image = tf.image.resize(image, size=target_size)\n",
    "    \n",
    "    if preprocess_fn is not None:\n",
    "        image = preprocess_fn(image)\n",
    "    \n",
    "    return image\n",
    "\n",
    "def read_dicom_uint16(path, target_size=(299, 299), preprocess_fn=None):\n",
    "    image = tf.io.read_file(path)\n",
    "    image = tfio.image.decode_dicom_image(image, color_dim=True,\n",
    "                                          dtype=tf.uint16, scale='auto',\n",
    "                                          on_error='strict')[0]\n",
    "    image = tf.image.grayscale_to_rgb(tf.cast(image, tf.int32))\n",
    "    image = tf.cast(image, tf.float32)\n",
    "    image = tf.image.resize(image, size=target_size)\n",
    "    \n",
    "    if preprocess_fn is not None:\n",
    "        image = preprocess_fn(image)\n",
    "    \n",
    "    return image\n",
    "\n",
    "def preprocess_uint8_resnet(x):\n",
    "    x = tf.cast(x, tf.float32)\n",
    "    mean = [123.68, 116.779, 103.939]\n",
    "    mean_tensor = tf.keras.backend.constant(-np.array(mean))\n",
    "    x = tf.keras.backend.bias_add(x, mean_tensor, tf.keras.backend.image_data_format())\n",
    "    return x\n",
    "\n",
    "def preprocess_uint16_inception_input(x):\n",
    "    x /= 32767.5\n",
    "    x -= 1\n",
    "    return x"
   ]
  },
  {
   "cell_type": "code",
   "execution_count": 4,
   "id": "appreciated-congress",
   "metadata": {},
   "outputs": [],
   "source": [
    "import tensorflow as tf\n",
    "import tensorflow_io as tfio\n",
    "import numpy as np\n",
    "\n",
    "def read_jpg_uint8(path, target_size=(299, 299), preprocess_fn=None):\n",
    "    image = tf.io.read_file(path)\n",
    "    image = tf.io.decode_jpeg(image, channels=3)\n",
    "    if target_size is not None:\n",
    "        image = tf.image.resize(image, size=target_size)\n",
    "    \n",
    "    if preprocess_fn is not None:\n",
    "        image = preprocess_fn(image)\n",
    "    \n",
    "    return image"
   ]
  },
  {
   "cell_type": "code",
   "execution_count": 19,
   "id": "welsh-skating",
   "metadata": {},
   "outputs": [],
   "source": [
    "def crop_dicom_to_mask(image, mask, preprocess_fn=None):\n",
    "    x = crop_image_to_mask(image, mask,\n",
    "                               crop_shape=(299, 299),\n",
    "                               soft_mask=True, crop_masked_img=False)\n",
    "    x = preprocess_fn(x)\n",
    "    return x"
   ]
  },
  {
   "cell_type": "code",
   "execution_count": 32,
   "id": "employed-powder",
   "metadata": {},
   "outputs": [],
   "source": [
    "input_path = '../data/dicom_00000001_000.dcm'"
   ]
  },
  {
   "cell_type": "code",
   "execution_count": 33,
   "id": "protected-tomato",
   "metadata": {},
   "outputs": [
    {
     "name": "stdout",
     "output_type": "stream",
     "text": [
      "Extracting DICOM metadata...\n",
      "WARNING: Age could not be determined from StudyDate tag\n",
      "WARNING: image resolution is lower than 1500x1500. Interpret with caution!\n",
      "WARNING: BitsStored is under 16, falling back to 8-Bit inference. Interpret with caution!\n"
     ]
    }
   ],
   "source": [
    "IS_DICOM = False\n",
    "\n",
    "if input_path.endswith('.dcm'):\n",
    "    IS_DICOM = True\n",
    "\n",
    "if IS_DICOM:\n",
    "    object = pydicom.dcmread(fp=input_path, stop_before_pixels=True)\n",
    "    print('Extracting DICOM metadata...')\n",
    "    IMG_SHAPE = (object.Rows, object.Columns)\n",
    "\n",
    "    BITS = object.BitsStored\n",
    "\n",
    "    try:\n",
    "        AGE = (datetime.datetime.strptime(object.StudyDate, '%Y%m%d') -\n",
    "        datetime.datetime.strptime(object.PatientBirthDate, '%Y%m%d')).days/365.24\n",
    "    except:\n",
    "        print('WARNING: Age could not be determined from StudyDate tag')\n",
    "        AGE = -1\n",
    "else:\n",
    "    print('WARNING: input is not in DICOM format')\n",
    "    object = read_jpg_uint8(input_path, target_size=None)\n",
    "    IMG_SHAPE = object.shape\n",
    "    AGE = -1\n",
    "    BITS = 8\n",
    "\n",
    "if (IMG_SHAPE[0] < 1500) | (IMG_SHAPE[1] < 1500):\n",
    "    print('WARNING: image resolution is lower than 1500x1500. Interpret with caution!')\n",
    "\n",
    "if BITS < 16:\n",
    "    print('WARNING: BitsStored is under 16, falling back to 8-Bit inference. Interpret with caution!')\n",
    "\n",
    "dicom_metadata = {'age': AGE,\n",
    "               'rows': IMG_SHAPE[0],\n",
    "               'columns': IMG_SHAPE[1],\n",
    "               'bits_stored': BITS}"
   ]
  },
  {
   "cell_type": "code",
   "execution_count": 34,
   "id": "speaking-credit",
   "metadata": {},
   "outputs": [
    {
     "name": "stdout",
     "output_type": "stream",
     "text": [
      "Performing QC...\n"
     ]
    }
   ],
   "source": [
    "print('Performing QC...')\n",
    "body_part = tf.keras.models.load_model('../models/inceptionv3_299_299_other-chest', compile=False)\n",
    "frontal_lateral = tf.keras.models.load_model('../models/inceptionv3_299_299_frontal_lateral', compile=False)\n",
    "view_position = tf.keras.models.load_model('../models/inceptionv3_299_299_ap-pa', compile=False)\n",
    "\n",
    "if IS_DICOM:\n",
    "    x = read_dicom_uint8(input_path, target_size=(299, 299), preprocess_fn=preprocess_input)\n",
    "else:\n",
    "    x = read_jpg_uint8(input_path, target_size=(299, 299), preprocess_fn=preprocess_input)\n",
    "    x = tf.reshape(x, (1, 299, 299, 3))\n",
    "\n",
    "proba_body_part = body_part.predict(x)\n",
    "proba_frontal_lateral = frontal_lateral.predict(x)\n",
    "proba_view_position = view_position.predict(x)\n",
    "\n",
    "image_metadata = {'chest_xr_proba': proba_body_part[0].tolist()[1],\n",
    "                  'frontal_xr_proba': proba_frontal_lateral[0].tolist()[0],\n",
    "                  'ap_xr_proba': proba_view_position[0].tolist()[0]}"
   ]
  },
  {
   "cell_type": "code",
   "execution_count": 35,
   "id": "foreign-pepper",
   "metadata": {},
   "outputs": [
    {
     "name": "stdout",
     "output_type": "stream",
     "text": [
      "Extracting lung segments\n",
      "WARNING:tensorflow:SavedModel saved prior to TF 2.5 detected when loading Keras model. Please ensure that you are saving the model with model.save() or tf.keras.models.save_model(), *NOT* tf.saved_model.save(). To confirm, there should be a file named \"keras_metadata.pb\" in the SavedModel directory.\n",
      "WARNING:tensorflow:No training configuration found in save file, so the model was *not* compiled. Compile it manually.\n"
     ]
    }
   ],
   "source": [
    "print('Extracting lung segments')\n",
    "\n",
    "cxr_segmentation = tf.keras.models.load_model('../models/resnet50_unet_segmentation_covix')\n",
    "if IS_DICOM:\n",
    "    x = read_dicom_uint8(input_path, target_size=(512, 512),\n",
    "                        preprocess_fn=preprocess_uint8_resnet)\n",
    "else:\n",
    "    x = read_jpg_uint8(input_path, target_size=(512, 512),\n",
    "                        preprocess_fn=preprocess_uint8_resnet)\n",
    "    x = tf.reshape(x, (1, 512, 512, 3))\n",
    "\n",
    "proba = cxr_segmentation.predict(x)\n",
    "proba = proba.reshape((256, 256, 2)).argmax(axis=2)\n",
    "MASK = np.stack((proba,)*3, axis=-1)\n",
    "MASK = tf.image.resize(MASK, size=(IMG_SHAPE[0], IMG_SHAPE[1]), method='nearest').numpy() * 255"
   ]
  },
  {
   "cell_type": "code",
   "execution_count": 36,
   "id": "particular-amount",
   "metadata": {},
   "outputs": [],
   "source": [
    "img = pydicom.read_file(input_path)\n",
    "img.pixel_arraye"
   ]
  },
  {
   "cell_type": "code",
   "execution_count": 38,
   "id": "registered-awareness",
   "metadata": {},
   "outputs": [],
   "source": [
    "if IS_DICOM:\n",
    "    img = pydicom.read_file(input_path)\n",
    "    img = img.pixel_array\n",
    "else:\n",
    "    img = plt.imread(input_path)"
   ]
  },
  {
   "cell_type": "code",
   "execution_count": 39,
   "id": "clean-shore",
   "metadata": {},
   "outputs": [
    {
     "data": {
      "text/plain": [
       "<matplotlib.image.AxesImage at 0x7f90389727f0>"
      ]
     },
     "execution_count": 39,
     "metadata": {},
     "output_type": "execute_result"
    },
    {
     "data": {
      "image/png": "[encoded data removed]",
      "text/plain": [
       "<Figure size 432x288 with 1 Axes>"
      ]
     },
     "metadata": {
      "needs_background": "light"
     },
     "output_type": "display_data"
    }
   ],
   "source": [
    "plt.imshow(img)\n",
    "plt.imshow(MASK, alpha=0.4)"
   ]
  },
  {
   "cell_type": "code",
   "execution_count": 41,
   "id": "wooden-justice",
   "metadata": {},
   "outputs": [
    {
     "data": {
      "text/plain": [
       "TensorShape([1, 1500, 1500, 3])"
      ]
     },
     "execution_count": 41,
     "metadata": {},
     "output_type": "execute_result"
    }
   ],
   "source": [
    "cxr = read_dicom_uint8(input_path, target_size=(1500, 1500))\n",
    "cxr.shape"
   ]
  },
  {
   "cell_type": "code",
   "execution_count": 44,
   "id": "moral-extreme",
   "metadata": {},
   "outputs": [],
   "source": [
    "mask_model = tf.keras.models.load_model('../models/inceptionv3_masks_299_299_diagnosis', compile=False)\n",
    "\n",
    "if IS_DICOM:\n",
    "    cxr = read_dicom_uint8(input_path, target_size=(1500, 1500))\n",
    "    cxr = tf.reshape(cxr, (1500, 1500, 3))\n",
    "    x = np.array([crop_dicom_to_mask(cxr, MASK, preprocess_uint16_inception_input) for i in range(50)])\n",
    "else:\n",
    "    cxr = read_jpg_uint8(input_path, target_size=(1500, 1500))\n",
    "    x = np.array([crop_dicom_to_mask(cxr, MASK, preprocess_input) for i in range(50)])\n",
    "\n",
    "\n",
    "mask_proba = np.mean(mask_model.predict(x), axis=0)"
   ]
  },
  {
   "cell_type": "code",
   "execution_count": 31,
   "id": "parental-bruce",
   "metadata": {},
   "outputs": [
    {
     "data": {
      "text/plain": [
       "array([0.04654074, 0.15113755, 0.635917  , 0.1664048 ], dtype=float32)"
      ]
     },
     "execution_count": 31,
     "metadata": {},
     "output_type": "execute_result"
    }
   ],
   "source": [
    "mask_proba = np.mean(mask_model.predict(x), axis=0)\n",
    "mask_proba"
   ]
  },
  {
   "cell_type": "code",
   "execution_count": null,
   "id": "green-custom",
   "metadata": {},
   "outputs": [],
   "source": []
  }
 ],
 "metadata": {
  "kernelspec": {
   "display_name": "Python 3",
   "language": "python",
   "name": "python3"
  },
  "language_info": {
   "codemirror_mode": {
    "name": "ipython",
    "version": 3
   },
   "file_extension": ".py",
   "mimetype": "text/x-python",
   "name": "python",
   "nbconvert_exporter": "python",
   "pygments_lexer": "ipython3",
   "version": "3.8.10"
  }
 },
 "nbformat": 4,
 "nbformat_minor": 5
}
